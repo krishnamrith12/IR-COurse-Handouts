{
 "cells": [
  {
   "cell_type": "code",
   "execution_count": 5,
   "metadata": {
    "collapsed": true
   },
   "outputs": [],
   "source": [
    "#Importing Libraries, execute once and forget.\n",
    "import scipy\n",
    "import numpy as np\n",
    "%matplotlib inline\n",
    "import matplotlib.pyplot as plt"
   ]
  },
  {
   "cell_type": "markdown",
   "metadata": {},
   "source": [
    "# Jaccard Coefficient\n"
   ]
  },
  {
   "cell_type": "code",
   "execution_count": 6,
   "metadata": {
    "collapsed": false
   },
   "outputs": [
    {
     "name": "stdout",
     "output_type": "stream",
     "text": [
      "0.4\n"
     ]
    }
   ],
   "source": [
    "def jaccard(q,d):\n",
    "    qset = set(q.lower().split()) # Results should be calculated based on case insesnitive text\n",
    "    dset = set(d.lower().split()) # tokenizing the docs \n",
    "    \n",
    "    jaccScore = len(qset.intersection(dset))*1.0/len(qset.union(dset)) # Jaccard coefficient\n",
    "    \n",
    "    return jaccScore\n",
    "\n",
    "\n",
    "query = \"ides in March\"\n",
    "document = \"Caesar died in march\"\n",
    "\n",
    "print jaccard(query,document)"
   ]
  },
  {
   "cell_type": "code",
   "execution_count": 7,
   "metadata": {
    "collapsed": false
   },
   "outputs": [
    {
     "name": "stdout",
     "output_type": "stream",
     "text": [
      "Total number of docuemnts -  208\n"
     ]
    }
   ],
   "source": [
    "#Loading dataset - Our dataset is collection of 208 documents. Each document is an episode from How I met your mother.\n",
    "\n",
    "docs = eval(open('eps.txt').read())\n",
    "print 'Total number of docuemnts - ',len(docs)\n",
    "\n",
    "# eps is a list, with ep1 is a string which contains all sentences in episode 1. [ep1, ep2, ep3]"
   ]
  },
  {
   "cell_type": "markdown",
   "metadata": {},
   "source": [
    "The following snippet calculates the Jaccard coefficent of the Query with each of the 2000 documents in the **docs** list.\n",
    "\n",
    "### Exercise\n",
    "\n",
    " - Can you try to figure out top 10 entries with highest jaccard coefficient, print the document indices?\n",
    " - Try different queries. "
   ]
  },
  {
   "cell_type": "code",
   "execution_count": 8,
   "metadata": {
    "collapsed": false
   },
   "outputs": [
    {
     "name": "stdout",
     "output_type": "stream",
     "text": [
      "208\n"
     ]
    },
    {
     "data": {
      "image/png": "[encoded data removed]",
      "text/plain": [
       "<matplotlib.figure.Figure at 0x7f264a0e2f50>"
      ]
     },
     "metadata": {},
     "output_type": "display_data"
    }
   ],
   "source": [
    "%matplotlib inline\n",
    "import matplotlib.pyplot as plt\n",
    "jacScoreDoc = list()\n",
    "\n",
    "query = \"ides of March\"\n",
    "\n",
    "for item in docs:\n",
    "    jacScoreDoc.append(jaccard(query,item))\n",
    "\n",
    "print len(jacScoreDoc)    \n",
    "\n",
    "plt.plot(jacScoreDoc)\n",
    "plt.ylabel('Jaccard Coefficient')\n",
    "plt.xlabel('Document index')\n",
    "plt.show()"
   ]
  },
  {
   "cell_type": "code",
   "execution_count": 9,
   "metadata": {
    "collapsed": true
   },
   "outputs": [],
   "source": [
    "#Dont forget to run this cell. This is your new dataset.\n",
    "\n",
    "\n",
    "docs = ['escalators do not break down they just turn from escalators to stairs after they break down',\n",
    "'I am sorry and I apologize mean the same thing except when you are at a funeral',\n",
    "'I intend to live forever or die trying',\n",
    "'we never knew he was a drunk until he showed up to work sober',\n",
    "'a clear conscience is usually the sign of a bad memory',\n",
    "'ever and ever forever and ever you Will be the one That shines in me like the morning sun'\n",
    "       ]"
   ]
  },
  {
   "cell_type": "markdown",
   "metadata": {},
   "source": [
    "# Vector Space Model - Binary"
   ]
  },
  {
   "cell_type": "code",
   "execution_count": 10,
   "metadata": {
    "collapsed": false
   },
   "outputs": [
    {
     "name": "stdout",
     "output_type": "stream",
     "text": [
      "[[ 0.  1.  0.  0.  0.  0.  0.  1.  0.  0.  0.  0.  0.  0.  0.  0.  1.  0.\n",
      "   0.  0.  0.  0.  1.  0.  0.  0.  0.  0.  0.  1.  0.  0.  0.  0.  0.  0.\n",
      "   1.  0.  1.  0.  1.  1.  0.  0.  1.  0.  1.  1.  0.  0.  0.  0.  0.  0.\n",
      "   0.  0.  1.  1.  0.  0.  1.  1.  1.  0.]\n",
      " [ 1.  0.  0.  0.  1.  1.  0.  0.  0.  1.  1.  0.  0.  0.  0.  0.  0.  1.\n",
      "   0.  1.  1.  1.  0.  0.  0.  0.  1.  0.  0.  0.  0.  0.  0.  1.  0.  1.\n",
      "   0.  1.  0.  0.  0.  0.  0.  0.  0.  1.  1.  1.  0.  0.  0.  0.  0.  0.\n",
      "   0.  0.  1.  0.  0.  0.  1.  1.  0.  1.]\n",
      " [ 0.  0.  0.  0.  1.  0.  0.  0.  1.  0.  0.  0.  0.  0.  0.  0.  0.  0.\n",
      "   0.  0.  0.  0.  1.  1.  0.  0.  0.  0.  0.  0.  0.  0.  1.  1.  0.  0.\n",
      "   0.  0.  0.  0.  0.  0.  0.  1.  0.  0.  0.  0.  0.  1.  0.  0.  1.  0.\n",
      "   0.  0.  1.  0.  0.  0.  0.  0.  0.  0.]\n",
      " [ 0.  0.  1.  0.  0.  0.  0.  0.  1.  0.  0.  1.  0.  0.  0.  0.  0.  0.\n",
      "   0.  0.  0.  0.  1.  0.  0.  0.  0.  1.  1.  0.  1.  1.  0.  0.  1.  0.\n",
      "   0.  0.  0.  0.  0.  0.  1.  0.  0.  0.  1.  1.  0.  0.  0.  1.  0.  0.\n",
      "   1.  1.  1.  0.  0.  0.  0.  0.  0.  0.]\n",
      " [ 0.  0.  0.  1.  0.  0.  1.  0.  0.  0.  0.  0.  0.  0.  1.  0.  0.  0.\n",
      "   0.  0.  0.  0.  0.  0.  0.  1.  0.  0.  0.  0.  0.  0.  0.  0.  0.  0.\n",
      "   0.  1.  0.  1.  0.  0.  0.  0.  0.  0.  1.  1.  0.  0.  0.  0.  0.  1.\n",
      "   0.  0.  1.  0.  1.  1.  0.  1.  0.  0.]\n",
      " [ 1.  0.  0.  0.  1.  0.  0.  0.  1.  0.  0.  0.  1.  1.  0.  1.  0.  0.\n",
      "   1.  0.  0.  0.  0.  0.  1.  0.  0.  0.  0.  0.  0.  0.  0.  0.  0.  0.\n",
      "   0.  1.  0.  0.  0.  0.  1.  0.  0.  1.  1.  1.  1.  1.  1.  0.  0.  0.\n",
      "   0.  0.  1.  0.  0.  0.  1.  1.  0.  0.]]\n"
     ]
    },
    {
     "data": {
      "text/plain": [
       "<matplotlib.collections.PolyCollection at 0x7f2643f936d0>"
      ]
     },
     "execution_count": 10,
     "metadata": {},
     "output_type": "execute_result"
    },
    {
     "data": {
      "image/png": "[encoded data removed]",
      "text/plain": [
       "<matplotlib.figure.Figure at 0x7f264a08b610>"
      ]
     },
     "metadata": {},
     "output_type": "display_data"
    }
   ],
   "source": [
    "uniqWords = set()\n",
    "wordCount = dict()\n",
    "\n",
    "for doc in docs:\n",
    "    for word in doc.split():\n",
    "        uniqWords.add(word)\n",
    "        try:\n",
    "            wordCount[word] += 1\n",
    "        except:\n",
    "            wordCount[word] = 1\n",
    "            \n",
    "VSMbin = np.zeros((len(docs),len(uniqWords)))\n",
    "\n",
    "uniqList = list(uniqWords)\n",
    "for item in uniqList:\n",
    "    for doc in docs:\n",
    "        if item in doc:\n",
    "            VSMbin[docs.index(doc),uniqList.index(item)] = 1\n",
    "            \n",
    "print VSMbin\n",
    "plt.pcolor(VSMbin)"
   ]
  },
  {
   "cell_type": "markdown",
   "metadata": {},
   "source": [
    "# Vector Space Model - Count Vectors"
   ]
  },
  {
   "cell_type": "code",
   "execution_count": 12,
   "metadata": {
    "collapsed": false
   },
   "outputs": [
    {
     "name": "stdout",
     "output_type": "stream",
     "text": [
      "[[ 0.  1.  0.  0.  0.  0.  0.  2.  0.  0.  0.  0.  0.  0.  0.  0.  1.  0.\n",
      "   0.  0.  0.  0.  1.  0.  0.  0.  0.  0.  0.  1.  0.  0.  0.  0.  0.  0.\n",
      "   1.  0.  2.  0.  2.  1.  0.  0.  1.  0.  0.  0.  0.  0.  0.  0.  0.  0.\n",
      "   0.  0.  0.  1.  0.  0.  0.  0.  2.  0.]\n",
      " [ 1.  0.  0.  0.  0.  1.  0.  0.  0.  1.  1.  0.  0.  0.  0.  0.  0.  1.\n",
      "   0.  1.  1.  1.  0.  0.  0.  0.  1.  0.  0.  0.  0.  0.  0.  2.  0.  1.\n",
      "   0.  0.  0.  0.  0.  0.  0.  0.  0.  1.  0.  1.  0.  0.  0.  0.  0.  0.\n",
      "   0.  0.  0.  0.  0.  0.  1.  1.  0.  1.]\n",
      " [ 0.  0.  0.  0.  0.  0.  0.  0.  0.  0.  0.  0.  0.  0.  0.  0.  0.  0.\n",
      "   0.  0.  0.  0.  1.  1.  0.  0.  0.  0.  0.  0.  0.  0.  1.  1.  0.  0.\n",
      "   0.  0.  0.  0.  0.  0.  0.  1.  0.  0.  0.  0.  0.  1.  0.  0.  1.  0.\n",
      "   0.  0.  1.  0.  0.  0.  0.  0.  0.  0.]\n",
      " [ 0.  0.  1.  0.  0.  0.  0.  0.  0.  0.  0.  1.  0.  0.  0.  0.  0.  0.\n",
      "   0.  0.  0.  0.  1.  0.  0.  0.  0.  1.  1.  0.  1.  1.  0.  0.  1.  0.\n",
      "   0.  0.  0.  0.  0.  0.  0.  0.  0.  0.  2.  1.  0.  0.  0.  1.  0.  0.\n",
      "   1.  1.  0.  0.  0.  0.  0.  0.  0.  0.]\n",
      " [ 0.  0.  0.  1.  0.  0.  1.  0.  0.  0.  0.  0.  0.  0.  1.  0.  0.  0.\n",
      "   0.  0.  0.  0.  0.  0.  0.  1.  0.  0.  0.  0.  0.  0.  0.  0.  0.  0.\n",
      "   0.  0.  0.  1.  0.  0.  0.  0.  0.  0.  0.  2.  0.  0.  0.  0.  0.  1.\n",
      "   0.  0.  0.  0.  1.  1.  0.  1.  0.  0.]\n",
      " [ 2.  0.  0.  0.  1.  0.  0.  0.  3.  0.  0.  0.  1.  1.  0.  1.  0.  0.\n",
      "   1.  0.  0.  0.  0.  0.  1.  0.  0.  0.  0.  0.  0.  0.  0.  0.  0.  0.\n",
      "   0.  1.  0.  0.  0.  0.  1.  0.  0.  1.  0.  0.  1.  1.  1.  0.  0.  0.\n",
      "   0.  0.  0.  0.  0.  0.  0.  2.  0.  0.]]\n"
     ]
    },
    {
     "data": {
      "text/plain": [
       "<matplotlib.collections.PolyCollection at 0x7f2643d83190>"
      ]
     },
     "execution_count": 12,
     "metadata": {},
     "output_type": "execute_result"
    },
    {
     "data": {
      "image/png": "[encoded data removed]",
      "text/plain": [
       "<matplotlib.figure.Figure at 0x7f2643f36090>"
      ]
     },
     "metadata": {},
     "output_type": "display_data"
    }
   ],
   "source": [
    "from collections import defaultdict\n",
    "\n",
    "uniqWords = set()\n",
    "wordDocCount = defaultdict(dict)\n",
    "\n",
    "for doc in docs:\n",
    "    for word in doc.split():\n",
    "        uniqWords.add(word)\n",
    "        try:\n",
    "            wordDocCount[word][docs.index(doc)] += 1\n",
    "        except:\n",
    "            wordDocCount[word][docs.index(doc)] = 1\n",
    "            \n",
    "VSMCount = np.zeros((len(docs),len(uniqWords)))\n",
    "\n",
    "uniqList = list(uniqWords)\n",
    "for item in uniqList:\n",
    "    for doc in docs:\n",
    "        if item in doc:\n",
    "                try:\n",
    "                    VSMCount[docs.index(doc),uniqList.index(item)] = wordDocCount[item][docs.index(doc)]\n",
    "                except:\n",
    "                    pass\n",
    "            \n",
    "print VSMCount\n",
    "plt.pcolor(VSMCount)"
   ]
  },
  {
   "cell_type": "markdown",
   "metadata": {},
   "source": [
    "# VSM - TFIDF"
   ]
  },
  {
   "cell_type": "code",
   "execution_count": 13,
   "metadata": {
    "collapsed": false,
    "scrolled": true
   },
   "outputs": [
    {
     "name": "stdout",
     "output_type": "stream",
     "text": [
      "[[ 0.          0.77815125  0.          0.          0.          0.          0.\n",
      "   1.3175246   0.          0.          0.          0.          0.          0.\n",
      "   0.          0.          0.77815125  0.          0.          0.          0.\n",
      "   0.          0.30103     0.          0.          0.          0.          0.\n",
      "   0.          0.77815125  0.          0.          0.          0.          0.\n",
      "   0.          0.77815125  0.          1.3175246   0.          1.3175246\n",
      "   0.77815125  0.          0.          0.77815125  0.          0.          0.\n",
      "   0.          0.          0.          0.          0.          0.          0.\n",
      "   0.          0.          0.77815125  0.          0.          0.          0.\n",
      "   1.3175246   0.        ]\n",
      " [ 0.47712125  0.          0.          0.          0.          0.77815125\n",
      "   0.          0.          0.          0.77815125  0.77815125  0.          0.\n",
      "   0.          0.          0.          0.          0.77815125  0.\n",
      "   0.77815125  0.77815125  0.77815125  0.          0.          0.          0.\n",
      "   0.77815125  0.          0.          0.          0.          0.          0.\n",
      "   0.80783651  0.          0.77815125  0.          0.          0.          0.\n",
      "   0.          0.          0.          0.          0.          0.47712125\n",
      "   0.          0.30103     0.          0.          0.          0.          0.\n",
      "   0.          0.          0.          0.          0.          0.          0.\n",
      "   0.77815125  0.30103     0.          0.77815125]\n",
      " [ 0.          0.          0.          0.          0.          0.          0.\n",
      "   0.          0.          0.          0.          0.          0.          0.\n",
      "   0.          0.          0.          0.          0.          0.          0.\n",
      "   0.          0.30103     0.77815125  0.          0.          0.          0.\n",
      "   0.          0.          0.          0.          0.77815125  0.47712125\n",
      "   0.          0.          0.          0.          0.          0.          0.\n",
      "   0.          0.          0.77815125  0.          0.          0.          0.\n",
      "   0.          0.47712125  0.          0.          0.77815125  0.          0.\n",
      "   0.          0.77815125  0.          0.          0.          0.          0.\n",
      "   0.          0.        ]\n",
      " [ 0.          0.          0.77815125  0.          0.          0.          0.\n",
      "   0.          0.          0.          0.          0.77815125  0.          0.\n",
      "   0.          0.          0.          0.          0.          0.          0.\n",
      "   0.          0.30103     0.          0.          0.          0.\n",
      "   0.77815125  0.77815125  0.          0.77815125  0.77815125  0.          0.\n",
      "   0.77815125  0.          0.          0.          0.          0.          0.\n",
      "   0.          0.          0.          0.          0.          1.3175246\n",
      "   0.30103     0.          0.          0.          0.77815125  0.          0.\n",
      "   0.77815125  0.77815125  0.          0.          0.          0.          0.\n",
      "   0.          0.          0.        ]\n",
      " [ 0.          0.          0.          0.77815125  0.          0.\n",
      "   0.77815125  0.          0.          0.          0.          0.          0.\n",
      "   0.          0.77815125  0.          0.          0.          0.          0.\n",
      "   0.          0.          0.          0.          0.          0.77815125\n",
      "   0.          0.          0.          0.          0.          0.          0.\n",
      "   0.          0.          0.          0.          0.          0.\n",
      "   0.77815125  0.          0.          0.          0.          0.          0.\n",
      "   0.          0.50968809  0.          0.          0.          0.          0.\n",
      "   0.77815125  0.          0.          0.          0.          0.77815125\n",
      "   0.77815125  0.          0.30103     0.          0.        ]\n",
      " [ 0.80783651  0.          0.          0.          0.77815125  0.          0.\n",
      "   0.          1.63303778  0.          0.          0.          0.77815125\n",
      "   0.77815125  0.          0.77815125  0.          0.          0.77815125\n",
      "   0.          0.          0.          0.          0.          0.77815125\n",
      "   0.          0.          0.          0.          0.          0.          0.\n",
      "   0.          0.          0.          0.          0.          0.77815125\n",
      "   0.          0.          0.          0.          0.77815125  0.          0.\n",
      "   0.47712125  0.          0.          0.77815125  0.47712125  0.77815125\n",
      "   0.          0.          0.          0.          0.          0.          0.\n",
      "   0.          0.          0.          0.50968809  0.          0.        ]]\n"
     ]
    },
    {
     "data": {
      "text/plain": [
       "<matplotlib.collections.PolyCollection at 0x7f2643ce6090>"
      ]
     },
     "execution_count": 13,
     "metadata": {},
     "output_type": "execute_result"
    },
    {
     "data": {
      "image/png": "[encoded data removed]",
      "text/plain": [
       "<matplotlib.figure.Figure at 0x7f264a17f910>"
      ]
     },
     "metadata": {},
     "output_type": "display_data"
    }
   ],
   "source": [
    "import math\n",
    "\n",
    "VSMTFIDF = np.zeros((len(docs),len(uniqWords)))\n",
    "for item in uniqList:\n",
    "    for doc in docs:\n",
    "        if item in doc:\n",
    "            try:\n",
    "                VSMTFIDF[docs.index(doc),uniqList.index(item)] = (1+ math.log(wordDocCount[item][docs.index(doc)])) * math.log10(len(docs)*1.0/len(wordDocCount[item]))\n",
    "            except:\n",
    "                pass\n",
    "            \n",
    "print VSMTFIDF\n",
    "plt.pcolor(VSMTFIDF)"
   ]
  },
  {
   "cell_type": "markdown",
   "metadata": {},
   "source": [
    "## All is not well with real data, without preprocessing"
   ]
  },
  {
   "cell_type": "markdown",
   "metadata": {},
   "source": [
    "**docsRealData** has the same content as **docs**. But **docsRealData** is more close to how proper english is written.\n",
    "\n",
    "Can you figure out and write code to get rid of the inconsistencies?\n",
    "\n",
    "Hint - \n",
    "\n",
    "    Case Folding - lower()\n",
    "    Stop word removal - Collect a lsit of words and remove them from corpus, easily available online\n",
    "    Punctuation removal"
   ]
  },
  {
   "cell_type": "code",
   "execution_count": 44,
   "metadata": {
    "collapsed": false
   },
   "outputs": [
    {
     "name": "stdout",
     "output_type": "stream",
     "text": [
      "Number of unique words in both the sets 69 64\n",
      "Difference of sets of data:\n",
      "set(['A', 'We', '\"I', 'apologize\"', 'sun.', 'down,', 'thing,', 'down.', 'sorry\"', 'memory.', 'Ever', 'Escalators', 'trying.', 'sober.'])\n"
     ]
    }
   ],
   "source": [
    "docsRealData = ['Escalators do not break down, they just turn from escalators to stairs after they break down.',\n",
    "'\"I am sorry\" and \"I apologize\" mean the same thing, except when you are at a funeral',\n",
    "'I intend to live forever or die trying.',\n",
    "'We never knew he was a drunk until he showed up to work sober.',\n",
    "'A clear conscience is usually the sign of a bad memory.',\n",
    "'Ever and ever forever and ever you Will be the one That shines in me like the morning sun.']\n",
    "\n",
    "uniqRealWords = set()\n",
    "for doc in docsRealData:\n",
    "    for word in doc.split():\n",
    "        uniqRealWords.add(word)\n",
    "        \n",
    "print \"Number of unique words in both the sets\",len(uniqRealWords),len(uniqWords)\n",
    "print \"Difference of sets of data:\\n\",uniqRealWords - uniqWords"
   ]
  }
 ],
 "metadata": {
  "kernelspec": {
   "display_name": "Python 2 (SageMath)",
   "language": "python",
   "name": "python2"
  },
  "language_info": {
   "codemirror_mode": {
    "name": "ipython",
    "version": 2
   },
   "file_extension": ".py",
   "mimetype": "text/x-python",
   "name": "python",
   "nbconvert_exporter": "python",
   "pygments_lexer": "ipython2",
   "version": "2.7.10"
  },
  "name": "CH6.ipynb"
 },
 "nbformat": 4,
 "nbformat_minor": 0
}
